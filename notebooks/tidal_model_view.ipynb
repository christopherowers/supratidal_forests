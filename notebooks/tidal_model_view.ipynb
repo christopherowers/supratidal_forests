{
 "cells": [
  {
   "cell_type": "markdown",
   "id": "ef0d7e66-bbc8-41d7-b7d4-15d56adb6879",
   "metadata": {
    "tags": []
   },
   "source": [
    "### testing sentinel-1 to detect flooded forests\n",
    "- sentinel-1 rtc won't load into DEA sandbox environment (seems it can only be accessed within MPC? unconfirmed)\n",
    "- just plot here the geojson area for specified years to find highest/lowest tides\n",
    "- using the info to then get sen-1 from MPC to see any discernible backscatter signal of flooded forests\n",
    "\n",
    "##### 25.1.24 parking this idea, as really need sen-1 data labelled with tide height to be useful #####"
   ]
  },
  {
   "cell_type": "code",
   "execution_count": 1,
   "id": "6f327f54-3c15-4368-905d-d39dfefc1171",
   "metadata": {
    "tags": []
   },
   "outputs": [],
   "source": [
    "import sys\n",
    "\n",
    "import ipyleaflet\n",
    "import matplotlib.pyplot as plt\n",
    "import numpy as np\n",
    "import xarray as xr\n",
    "import geopandas as gpd\n",
    "import pystac\n",
    "import pystac_client\n",
    "import planetary_computer\n",
    "import requests\n",
    "# import rich.table\n",
    "\n",
    "import odc.stac\n",
    "from datacube.utils.cog import write_cog\n",
    "\n",
    "from scipy.ndimage import uniform_filter\n",
    "from scipy.ndimage import variance\n",
    "\n",
    "from IPython.display import Image\n",
    "\n",
    "### Tide modelling tools\n",
    "sys.path.insert(1, \"/home/jovyan/Tools/\") # needed pip3 install OWSLib\n",
    "from dea_tools.coastal import model_tides,tidal_tag, pixel_tides, tidal_stats\n",
    "\n",
    "\n",
    "\n",
    "# GRD perhaps?\n",
    "# VV seems a winner\n",
    "# plotting up FES2014 model outside of DEA requires a bit of setup - maybe do within for now either two notebooks or bring this into dea\n"
   ]
  },
  {
   "cell_type": "code",
   "execution_count": 3,
   "id": "37f33e43-0298-478b-abe0-5be70a86cba4",
   "metadata": {
    "tags": []
   },
   "outputs": [
    {
     "data": {
      "text/html": [
       "<div style=\"width:100%;\"><div style=\"position:relative;width:100%;height:0;padding-bottom:60%;\"><span style=\"color:#565656\">Make this Notebook Trusted to load map: File -> Trust Notebook</span><iframe srcdoc=\"&lt;!DOCTYPE html&gt;\n",
       "&lt;html&gt;\n",
       "&lt;head&gt;\n",
       "    \n",
       "    &lt;meta http-equiv=&quot;content-type&quot; content=&quot;text/html; charset=UTF-8&quot; /&gt;\n",
       "    \n",
       "        &lt;script&gt;\n",
       "            L_NO_TOUCH = false;\n",
       "            L_DISABLE_3D = false;\n",
       "        &lt;/script&gt;\n",
       "    \n",
       "    &lt;style&gt;html, body {width: 100%;height: 100%;margin: 0;padding: 0;}&lt;/style&gt;\n",
       "    &lt;style&gt;#map {position:absolute;top:0;bottom:0;right:0;left:0;}&lt;/style&gt;\n",
       "    &lt;script src=&quot;https://cdn.jsdelivr.net/npm/leaflet@1.9.3/dist/leaflet.js&quot;&gt;&lt;/script&gt;\n",
       "    &lt;script src=&quot;https://code.jquery.com/jquery-3.7.1.min.js&quot;&gt;&lt;/script&gt;\n",
       "    &lt;script src=&quot;https://cdn.jsdelivr.net/npm/bootstrap@5.2.2/dist/js/bootstrap.bundle.min.js&quot;&gt;&lt;/script&gt;\n",
       "    &lt;script src=&quot;https://cdnjs.cloudflare.com/ajax/libs/Leaflet.awesome-markers/2.0.2/leaflet.awesome-markers.js&quot;&gt;&lt;/script&gt;\n",
       "    &lt;link rel=&quot;stylesheet&quot; href=&quot;https://cdn.jsdelivr.net/npm/leaflet@1.9.3/dist/leaflet.css&quot;/&gt;\n",
       "    &lt;link rel=&quot;stylesheet&quot; href=&quot;https://cdn.jsdelivr.net/npm/bootstrap@5.2.2/dist/css/bootstrap.min.css&quot;/&gt;\n",
       "    &lt;link rel=&quot;stylesheet&quot; href=&quot;https://netdna.bootstrapcdn.com/bootstrap/3.0.0/css/bootstrap.min.css&quot;/&gt;\n",
       "    &lt;link rel=&quot;stylesheet&quot; href=&quot;https://cdn.jsdelivr.net/npm/@fortawesome/fontawesome-free@6.2.0/css/all.min.css&quot;/&gt;\n",
       "    &lt;link rel=&quot;stylesheet&quot; href=&quot;https://cdnjs.cloudflare.com/ajax/libs/Leaflet.awesome-markers/2.0.2/leaflet.awesome-markers.css&quot;/&gt;\n",
       "    &lt;link rel=&quot;stylesheet&quot; href=&quot;https://cdn.jsdelivr.net/gh/python-visualization/folium/folium/templates/leaflet.awesome.rotate.min.css&quot;/&gt;\n",
       "    \n",
       "            &lt;meta name=&quot;viewport&quot; content=&quot;width=device-width,\n",
       "                initial-scale=1.0, maximum-scale=1.0, user-scalable=no&quot; /&gt;\n",
       "            &lt;style&gt;\n",
       "                #map_a83d1d62b585a7e2de0bb6f5f59c8602 {\n",
       "                    position: relative;\n",
       "                    width: 100.0%;\n",
       "                    height: 100.0%;\n",
       "                    left: 0.0%;\n",
       "                    top: 0.0%;\n",
       "                }\n",
       "                .leaflet-container { font-size: 1rem; }\n",
       "            &lt;/style&gt;\n",
       "        \n",
       "    \n",
       "                    &lt;style&gt;\n",
       "                        .foliumtooltip {\n",
       "                            \n",
       "                        }\n",
       "                       .foliumtooltip table{\n",
       "                            margin: auto;\n",
       "                        }\n",
       "                        .foliumtooltip tr{\n",
       "                            text-align: left;\n",
       "                        }\n",
       "                        .foliumtooltip th{\n",
       "                            padding: 2px; padding-right: 8px;\n",
       "                        }\n",
       "                    &lt;/style&gt;\n",
       "            \n",
       "&lt;/head&gt;\n",
       "&lt;body&gt;\n",
       "    \n",
       "    \n",
       "            &lt;div class=&quot;folium-map&quot; id=&quot;map_a83d1d62b585a7e2de0bb6f5f59c8602&quot; &gt;&lt;/div&gt;\n",
       "        \n",
       "&lt;/body&gt;\n",
       "&lt;script&gt;\n",
       "    \n",
       "    \n",
       "            var map_a83d1d62b585a7e2de0bb6f5f59c8602 = L.map(\n",
       "                &quot;map_a83d1d62b585a7e2de0bb6f5f59c8602&quot;,\n",
       "                {\n",
       "                    center: [-32.669636489066555, 152.14779605721415],\n",
       "                    crs: L.CRS.EPSG3857,\n",
       "                    zoom: 10,\n",
       "                    zoomControl: true,\n",
       "                    preferCanvas: false,\n",
       "                }\n",
       "            );\n",
       "            L.control.scale().addTo(map_a83d1d62b585a7e2de0bb6f5f59c8602);\n",
       "\n",
       "            \n",
       "\n",
       "        \n",
       "    \n",
       "            var tile_layer_db656508bb2de43f80b6d619eb91f409 = L.tileLayer(\n",
       "                &quot;https://{s}.tile.openstreetmap.org/{z}/{x}/{y}.png&quot;,\n",
       "                {&quot;attribution&quot;: &quot;Data by \\u0026copy; \\u003ca target=\\&quot;_blank\\&quot; href=\\&quot;http://openstreetmap.org\\&quot;\\u003eOpenStreetMap\\u003c/a\\u003e, under \\u003ca target=\\&quot;_blank\\&quot; href=\\&quot;http://www.openstreetmap.org/copyright\\&quot;\\u003eODbL\\u003c/a\\u003e.&quot;, &quot;detectRetina&quot;: false, &quot;maxNativeZoom&quot;: 18, &quot;maxZoom&quot;: 18, &quot;minZoom&quot;: 0, &quot;noWrap&quot;: false, &quot;opacity&quot;: 1, &quot;subdomains&quot;: &quot;abc&quot;, &quot;tms&quot;: false}\n",
       "            );\n",
       "        \n",
       "    \n",
       "                tile_layer_db656508bb2de43f80b6d619eb91f409.addTo(map_a83d1d62b585a7e2de0bb6f5f59c8602);\n",
       "    \n",
       "            map_a83d1d62b585a7e2de0bb6f5f59c8602.fitBounds(\n",
       "                [[-32.688757068095434, 152.11588710605173], [-32.650515910037676, 152.17970500837657]],\n",
       "                {}\n",
       "            );\n",
       "        \n",
       "    \n",
       "        function geo_json_0b22c3e59f864644fa5c0133b9b56b84_styler(feature) {\n",
       "            switch(feature.id) {\n",
       "                default:\n",
       "                    return {&quot;fillOpacity&quot;: 0.5, &quot;weight&quot;: 2};\n",
       "            }\n",
       "        }\n",
       "        function geo_json_0b22c3e59f864644fa5c0133b9b56b84_highlighter(feature) {\n",
       "            switch(feature.id) {\n",
       "                default:\n",
       "                    return {&quot;fillOpacity&quot;: 0.75};\n",
       "            }\n",
       "        }\n",
       "        function geo_json_0b22c3e59f864644fa5c0133b9b56b84_pointToLayer(feature, latlng) {\n",
       "            var opts = {&quot;bubblingMouseEvents&quot;: true, &quot;color&quot;: &quot;#3388ff&quot;, &quot;dashArray&quot;: null, &quot;dashOffset&quot;: null, &quot;fill&quot;: true, &quot;fillColor&quot;: &quot;#3388ff&quot;, &quot;fillOpacity&quot;: 0.2, &quot;fillRule&quot;: &quot;evenodd&quot;, &quot;lineCap&quot;: &quot;round&quot;, &quot;lineJoin&quot;: &quot;round&quot;, &quot;opacity&quot;: 1.0, &quot;radius&quot;: 2, &quot;stroke&quot;: true, &quot;weight&quot;: 3};\n",
       "            \n",
       "            let style = geo_json_0b22c3e59f864644fa5c0133b9b56b84_styler(feature)\n",
       "            Object.assign(opts, style)\n",
       "            \n",
       "            return new L.CircleMarker(latlng, opts)\n",
       "        }\n",
       "\n",
       "        function geo_json_0b22c3e59f864644fa5c0133b9b56b84_onEachFeature(feature, layer) {\n",
       "            layer.on({\n",
       "                mouseout: function(e) {\n",
       "                    if(typeof e.target.setStyle === &quot;function&quot;){\n",
       "                        geo_json_0b22c3e59f864644fa5c0133b9b56b84.resetStyle(e.target);\n",
       "                    }\n",
       "                },\n",
       "                mouseover: function(e) {\n",
       "                    if(typeof e.target.setStyle === &quot;function&quot;){\n",
       "                        const highlightStyle = geo_json_0b22c3e59f864644fa5c0133b9b56b84_highlighter(e.target.feature)\n",
       "                        e.target.setStyle(highlightStyle);\n",
       "                    }\n",
       "                },\n",
       "            });\n",
       "        };\n",
       "        var geo_json_0b22c3e59f864644fa5c0133b9b56b84 = L.geoJson(null, {\n",
       "                onEachFeature: geo_json_0b22c3e59f864644fa5c0133b9b56b84_onEachFeature,\n",
       "            \n",
       "                style: geo_json_0b22c3e59f864644fa5c0133b9b56b84_styler,\n",
       "                pointToLayer: geo_json_0b22c3e59f864644fa5c0133b9b56b84_pointToLayer,\n",
       "        });\n",
       "\n",
       "        function geo_json_0b22c3e59f864644fa5c0133b9b56b84_add (data) {\n",
       "            geo_json_0b22c3e59f864644fa5c0133b9b56b84\n",
       "                .addData(data);\n",
       "        }\n",
       "            geo_json_0b22c3e59f864644fa5c0133b9b56b84_add({&quot;bbox&quot;: [152.11588710605173, -32.688757068095434, 152.17970500837657, -32.650515910037676], &quot;features&quot;: [{&quot;bbox&quot;: [152.11588710605173, -32.688757068095434, 152.17970500837657, -32.650515910037676], &quot;geometry&quot;: {&quot;coordinates&quot;: [[[152.11588710605173, -32.650515910037676], [152.11588710605173, -32.688757068095434], [152.17970500837657, -32.688757068095434], [152.17970500837657, -32.650515910037676], [152.11588710605173, -32.650515910037676]]], &quot;type&quot;: &quot;Polygon&quot;}, &quot;id&quot;: &quot;0&quot;, &quot;properties&quot;: {}, &quot;type&quot;: &quot;Feature&quot;}], &quot;type&quot;: &quot;FeatureCollection&quot;});\n",
       "\n",
       "        \n",
       "    \n",
       "    geo_json_0b22c3e59f864644fa5c0133b9b56b84.bindTooltip(\n",
       "    function(layer){\n",
       "    let div = L.DomUtil.create(&#x27;div&#x27;);\n",
       "    \n",
       "    return div\n",
       "    }\n",
       "    ,{&quot;className&quot;: &quot;foliumtooltip&quot;, &quot;sticky&quot;: true});\n",
       "                     \n",
       "    \n",
       "                geo_json_0b22c3e59f864644fa5c0133b9b56b84.addTo(map_a83d1d62b585a7e2de0bb6f5f59c8602);\n",
       "&lt;/script&gt;\n",
       "&lt;/html&gt;\" style=\"position:absolute;width:100%;height:100%;left:0;top:0;border:none !important;\" allowfullscreen webkitallowfullscreen mozallowfullscreen></iframe></div></div>"
      ],
      "text/plain": [
       "<folium.folium.Map at 0x7ff6c571e680>"
      ]
     },
     "execution_count": 3,
     "metadata": {},
     "output_type": "execute_result"
    }
   ],
   "source": [
    "# Defining a file path\n",
    "vector_file = '../data/geojson/hawksnest.geojson'\n",
    "# Define time period of interest\n",
    "time = \"2020-02-07/2020-02-28\"\n",
    "\n",
    "\n",
    "gdf = gpd.read_file(vector_file)\n",
    "\n",
    "# Visualizing \n",
    "gdf.explore()"
   ]
  },
  {
   "cell_type": "code",
   "execution_count": null,
   "id": "0fbf399a-df08-432c-8e68-973772a18a13",
   "metadata": {},
   "outputs": [],
   "source": [
    "# Convert data-cube style queries into something readable by `pystac_client`\n",
    "bbox = BoundingBox.from_xy(x, y)\n",
    "time_range = \"/\".join(time)\n",
    "\n",
    "# Search for STAC items from \"esa-worldcover\" product\n",
    "search = catalog.search(\n",
    "    collections=\"esa-worldcover\",\n",
    "    bbox=bbox,\n",
    "    datetime=time_range,\n",
    ")\n",
    "\n",
    "# Check how many items were returned\n",
    "items = search.item_collection()\n",
    "print(f\"Found {len(items)} STAC items\")"
   ]
  },
  {
   "cell_type": "code",
   "execution_count": 5,
   "id": "36961fb2-bc0c-4e9e-86b2-a216fee5b4b3",
   "metadata": {
    "tags": []
   },
   "outputs": [
    {
     "name": "stdout",
     "output_type": "stream",
     "text": [
      "Found 1 items\n"
     ]
    }
   ],
   "source": [
    "gdf_polygon = gdf[gdf.geometry.geom_type == 'Polygon']\n",
    "# gdf_point = gdf[gdf.geometry.geom_type == 'Point']\n",
    "\n",
    "polygon_bbox = [gdf_polygon.geometry.bounds.minx.min(), gdf_polygon.geometry.bounds.miny.min(), gdf_polygon.geometry.bounds.maxx.max(), gdf_polygon.geometry.bounds.maxy.max()]\n",
    "# point_bbox = [gdf_point.geometry.bounds.minx.min(), gdf_point.geometry.bounds.miny.min(), gdf_point.geometry.bounds.maxx.max(), gdf_point.geometry.bounds.maxy.max()]\n",
    "\n",
    "# search MPC collections\n",
    "search = catalog.search(\n",
    "    collections=[\"sentinel-1-rtc\"], bbox=polygon_bbox, datetime=time)\n",
    "items = search.item_collection()\n",
    "print(f\"Found {len(items)} items\")\n",
    "item = items[0]"
   ]
  },
  {
   "cell_type": "code",
   "execution_count": null,
   "id": "6d514011-7272-4946-8342-d94fbcbad52c",
   "metadata": {
    "tags": []
   },
   "outputs": [],
   "source": [
    "%%time\n",
    "# load as odc stac dataset\n",
    "ds_s1 = odc.stac.load(items,\n",
    "                        bbox=polygon_bbox,\n",
    "                        crs=\"EPSG:3577\",\n",
    "                        resolution=10,\n",
    "                        groupby='solar_day')"
   ]
  },
  {
   "cell_type": "code",
   "execution_count": null,
   "id": "daf8002f-cb4a-4255-9a46-3b0f67bd97f4",
   "metadata": {
    "tags": []
   },
   "outputs": [],
   "source": [
    "# Scale to plot data in decibels\n",
    "ds_s1[\"vv_dB\"] = 10 * np.log10(ds_s1.vv)\n",
    "\n",
    "# Plot all VV observations for the year\n",
    "ds_s1.vv_dB.plot(cmap=\"Greys_r\", robust=True, col=\"time\", col_wrap=5)\n",
    "plt.show()"
   ]
  },
  {
   "cell_type": "code",
   "execution_count": null,
   "id": "5249f63f-76b1-46e1-8715-d9e3819909f4",
   "metadata": {
    "tags": []
   },
   "outputs": [],
   "source": [
    "%%time\n",
    "# load as odc stac dataset\n",
    "ds_s1 = odc.stac.load(items,\n",
    "                        bbox=polygon_bbox,\n",
    "                        crs=\"EPSG:3577\",\n",
    "                        resolution=10,\n",
    "                        groupby='solar_day')\n",
    "\n",
    "out_stats = tidal_stats(ds_s1)\n"
   ]
  },
  {
   "cell_type": "code",
   "execution_count": null,
   "id": "196b32a1-388b-4cab-9ecd-6cc76010d534",
   "metadata": {},
   "outputs": [],
   "source": []
  },
  {
   "cell_type": "code",
   "execution_count": null,
   "id": "d2de6db2-eacd-4f15-8449-40c91003c24e",
   "metadata": {},
   "outputs": [],
   "source": []
  },
  {
   "cell_type": "code",
   "execution_count": null,
   "id": "a2b85f87-f1b9-4dae-addc-89bd542df4d4",
   "metadata": {},
   "outputs": [],
   "source": []
  },
  {
   "cell_type": "code",
   "execution_count": null,
   "id": "212520a5-4444-49ef-b4c7-366eb15b6648",
   "metadata": {},
   "outputs": [],
   "source": []
  },
  {
   "cell_type": "code",
   "execution_count": null,
   "id": "dad627af-63d2-4f07-9a0b-cc26ae2ed2da",
   "metadata": {},
   "outputs": [],
   "source": []
  },
  {
   "cell_type": "code",
   "execution_count": null,
   "id": "f2db7e39-5835-45ea-9c45-108ccb3f66ca",
   "metadata": {},
   "outputs": [],
   "source": []
  },
  {
   "cell_type": "code",
   "execution_count": null,
   "id": "5bc01e4e-20ea-4dac-b783-b508966dbf97",
   "metadata": {},
   "outputs": [],
   "source": []
  }
 ],
 "metadata": {
  "kernelspec": {
   "display_name": "Python 3 (ipykernel)",
   "language": "python",
   "name": "python3"
  },
  "language_info": {
   "codemirror_mode": {
    "name": "ipython",
    "version": 3
   },
   "file_extension": ".py",
   "mimetype": "text/x-python",
   "name": "python",
   "nbconvert_exporter": "python",
   "pygments_lexer": "ipython3",
   "version": "3.10.13"
  }
 },
 "nbformat": 4,
 "nbformat_minor": 5
}
