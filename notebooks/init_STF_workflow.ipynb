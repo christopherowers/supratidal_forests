{
 "cells": [
  {
   "cell_type": "markdown",
   "id": "e2225cd3-9abf-436e-be36-6a90c4786a36",
   "metadata": {
    "tags": []
   },
   "source": [
    "## initial mapping workflow for supratidal forests (STF)\n",
    "- works on geojson from http://geojson.io (add add 'field' with value 1)\n",
    "- select 'time_range' and if to 'export' results as tif"
   ]
  },
  {
   "cell_type": "code",
   "execution_count": 1,
   "id": "68c7e24b-c49b-4e71-807c-98719edd79c3",
   "metadata": {},
   "outputs": [],
   "source": [
    "import time\n",
    "start = time.time()"
   ]
  },
  {
   "cell_type": "code",
   "execution_count": 2,
   "id": "1bfc5403-20bb-4eb8-8267-2acd3ca21e9e",
   "metadata": {},
   "outputs": [],
   "source": [
    "%matplotlib inline\n",
    "\n",
    "import sys\n",
    "import xarray as xr\n",
    "import pandas as pd\n",
    "import geopandas as gpd\n",
    "# pd.set_option('display.max_rows', None)\n",
    "\n",
    "sys.path.insert(1, \"/home/jovyan/code/dea-notebooks/Tools\")\n",
    "import datacube\n",
    "from dea_tools.plotting import display_map, map_shapefile\n",
    "from datacube.utils.cog import write_cog\n",
    "from datacube.utils.geometry import Geometry\n",
    "from dea_tools.spatial import xr_rasterize\n",
    "dc = datacube.Datacube()\n",
    "\n",
    "# load virtual product\n",
    "import importlib\n",
    "from datacube.virtual import catalog_from_file\n",
    "from datacube.virtual import DEFAULT_RESOLVER\n",
    "catalog = catalog_from_file('../virtual_products/virtual_product_cat_wcf.yaml')"
   ]
  },
  {
   "cell_type": "markdown",
   "id": "62daa89d-83dd-46c2-95b7-c7d2edeaeaeb",
   "metadata": {},
   "source": [
    "### user inputs: geojson AOI, time, export geotiffs?"
   ]
  },
  {
   "cell_type": "code",
   "execution_count": 3,
   "id": "42b52312-f337-4b4f-ac07-35c2f3158ada",
   "metadata": {},
   "outputs": [],
   "source": [
    "## vector file created from https://geojson.io/ and adding a new column in table called field and value of 1\n",
    "# vector_file = '../National_EEA/tomago.geojson'\n",
    "# attribute_col = 'field'\n",
    "\n",
    "# vector_file = '../National_EEA/trinity_inlet.geojson'\n",
    "# attribute_col = 'field'\n",
    "\n",
    "# vector_file = './geojson/cairns.geojson'\n",
    "# attribute_col = 'field'\n",
    "\n",
    "# vector_file = './geojson/hunter.geojson'\n",
    "# attribute_col = 'field'\n",
    "\n",
    "# vector_file = './geojson/minnamurra.geojson'\n",
    "# attribute_col = 'field'\n",
    "\n",
    "# vector_file = './geojson/shoalhaven.geojson'\n",
    "# attribute_col = 'field'\n",
    "\n",
    "# vector_file = './geojson/westernport.geojson'\n",
    "# attribute_col = 'field'\n",
    "\n",
    "vector_file = './geojson/ga_summary_grid_c3_coastal.geojson'\n",
    "attribute_col = 'geometry'\n",
    "\n",
    "gdf = gpd.read_file(vector_file)\n",
    "\n",
    "# add time (not a range, just repeat year input here)\n",
    "time_range = (\"2020\", \"2020\")\n",
    "\n",
    "# export as geotiff?\n",
    "export = True"
   ]
  },
  {
   "cell_type": "code",
   "execution_count": 4,
   "id": "d21484d7-c9c0-4e71-9c05-1b5a8408ff8c",
   "metadata": {},
   "outputs": [],
   "source": [
    "mainland_grid = gdf[gdf['type'] == 'mainland']"
   ]
  },
  {
   "cell_type": "code",
   "execution_count": 5,
   "id": "8d2163dd-6e59-413a-a3fc-fa1675091016",
   "metadata": {},
   "outputs": [
    {
     "name": "stdout",
     "output_type": "stream",
     "text": [
      "[12, 13, 14, 15, 19, 20, 25, 26, 27, 28, 29, 30, 31, 32, 33, 34, 38, 39, 40, 41, 42, 43, 44, 45, 48, 49, 50, 51, 52, 53, 54, 56, 57, 58, 61, 62, 63, 64, 65, 66, 67, 68, 69, 70, 71, 76, 77, 78, 79, 80, 81, 82, 83, 84, 85, 86, 87, 88, 89, 90, 92, 93, 94, 100, 101, 102, 103, 104, 105, 106, 107, 108, 115, 116, 117, 125, 126, 136, 137, 138, 139, 140, 147, 148, 149, 150, 151, 152, 153, 158, 159, 160, 161, 162, 166, 167, 168, 169, 177, 178, 179, 180, 186, 187, 191, 192, 193, 196, 197, 198, 199, 201, 202, 203, 205, 206, 207, 208, 209, 210, 212, 213, 215, 216, 217, 218, 219, 220, 221, 222, 223, 224, 225, 226, 227, 228, 229, 230, 231, 232, 233, 234, 235, 236, 238, 239, 240, 241, 242, 243, 244, 245, 246, 247, 248, 249, 250, 251, 252, 253, 254, 255, 256, 257, 258, 259, 260, 261, 262, 265, 266, 267, 268, 269, 270, 271, 272, 273, 274, 275, 277, 278, 279, 280, 281, 284, 285, 286, 287, 288, 289, 290, 291, 292, 293, 294, 295, 296, 297, 298, 299, 300, 301, 302, 303, 304, 306, 307, 309, 311, 312, 313, 314, 315, 316, 317, 318, 319, 320, 321, 322]\n"
     ]
    }
   ],
   "source": [
    "id_list = []\n",
    "for index, row in mainland_grid.iterrows():\n",
    "    id_list.append(row['id'])\n",
    "print(id_list)"
   ]
  },
  {
   "cell_type": "code",
   "execution_count": 6,
   "id": "fe195d2d-5f2c-4454-a1d9-c34a8611a652",
   "metadata": {},
   "outputs": [
    {
     "data": {
      "text/html": [
       "<div>\n",
       "<style scoped>\n",
       "    .dataframe tbody tr th:only-of-type {\n",
       "        vertical-align: middle;\n",
       "    }\n",
       "\n",
       "    .dataframe tbody tr th {\n",
       "        vertical-align: top;\n",
       "    }\n",
       "\n",
       "    .dataframe thead th {\n",
       "        text-align: right;\n",
       "    }\n",
       "</style>\n",
       "<table border=\"1\" class=\"dataframe\">\n",
       "  <thead>\n",
       "    <tr style=\"text-align: right;\">\n",
       "      <th></th>\n",
       "      <th>region_code</th>\n",
       "      <th>ix</th>\n",
       "      <th>iy</th>\n",
       "      <th>utc_offset</th>\n",
       "      <th>id</th>\n",
       "      <th>type</th>\n",
       "      <th>geometry</th>\n",
       "    </tr>\n",
       "  </thead>\n",
       "  <tbody>\n",
       "    <tr>\n",
       "      <th>11</th>\n",
       "      <td>x27y44</td>\n",
       "      <td>27</td>\n",
       "      <td>44</td>\n",
       "      <td>9</td>\n",
       "      <td>12</td>\n",
       "      <td>mainland</td>\n",
       "      <td>POLYGON ((131.14236 -10.95979, 131.13657 -11.8...</td>\n",
       "    </tr>\n",
       "    <tr>\n",
       "      <th>12</th>\n",
       "      <td>x28y44</td>\n",
       "      <td>28</td>\n",
       "      <td>44</td>\n",
       "      <td>9</td>\n",
       "      <td>13</td>\n",
       "      <td>mainland</td>\n",
       "      <td>POLYGON ((132.00000 -10.96278, 132.00000 -11.8...</td>\n",
       "    </tr>\n",
       "    <tr>\n",
       "      <th>13</th>\n",
       "      <td>x29y44</td>\n",
       "      <td>29</td>\n",
       "      <td>44</td>\n",
       "      <td>9</td>\n",
       "      <td>14</td>\n",
       "      <td>mainland</td>\n",
       "      <td>POLYGON ((132.85764 -10.95979, 132.86343 -11.8...</td>\n",
       "    </tr>\n",
       "    <tr>\n",
       "      <th>14</th>\n",
       "      <td>x30y44</td>\n",
       "      <td>30</td>\n",
       "      <td>44</td>\n",
       "      <td>9</td>\n",
       "      <td>15</td>\n",
       "      <td>mainland</td>\n",
       "      <td>POLYGON ((133.71520 -10.95084, 133.72679 -11.8...</td>\n",
       "    </tr>\n",
       "    <tr>\n",
       "      <th>18</th>\n",
       "      <td>x39y44</td>\n",
       "      <td>39</td>\n",
       "      <td>44</td>\n",
       "      <td>9</td>\n",
       "      <td>19</td>\n",
       "      <td>mainland</td>\n",
       "      <td>POLYGON ((141.41707 -10.60201, 141.48049 -11.4...</td>\n",
       "    </tr>\n",
       "    <tr>\n",
       "      <th>...</th>\n",
       "      <td>...</td>\n",
       "      <td>...</td>\n",
       "      <td>...</td>\n",
       "      <td>...</td>\n",
       "      <td>...</td>\n",
       "      <td>...</td>\n",
       "      <td>...</td>\n",
       "    </tr>\n",
       "    <tr>\n",
       "      <th>317</th>\n",
       "      <td>x40y07</td>\n",
       "      <td>40</td>\n",
       "      <td>7</td>\n",
       "      <td>10</td>\n",
       "      <td>318</td>\n",
       "      <td>mainland</td>\n",
       "      <td>POLYGON ((145.64093 -42.46921, 145.76292 -43.3...</td>\n",
       "    </tr>\n",
       "    <tr>\n",
       "      <th>318</th>\n",
       "      <td>x41y07</td>\n",
       "      <td>41</td>\n",
       "      <td>7</td>\n",
       "      <td>10</td>\n",
       "      <td>319</td>\n",
       "      <td>mainland</td>\n",
       "      <td>POLYGON ((146.76796 -42.37058, 146.89986 -43.2...</td>\n",
       "    </tr>\n",
       "    <tr>\n",
       "      <th>319</th>\n",
       "      <td>x42y07</td>\n",
       "      <td>42</td>\n",
       "      <td>7</td>\n",
       "      <td>10</td>\n",
       "      <td>320</td>\n",
       "      <td>mainland</td>\n",
       "      <td>POLYGON ((147.89269 -42.26423, 148.03442 -43.1...</td>\n",
       "    </tr>\n",
       "    <tr>\n",
       "      <th>320</th>\n",
       "      <td>x40y06</td>\n",
       "      <td>40</td>\n",
       "      <td>6</td>\n",
       "      <td>10</td>\n",
       "      <td>321</td>\n",
       "      <td>mainland</td>\n",
       "      <td>POLYGON ((145.76292 -43.35558, 145.88711 -44.2...</td>\n",
       "    </tr>\n",
       "    <tr>\n",
       "      <th>321</th>\n",
       "      <td>x41y06</td>\n",
       "      <td>41</td>\n",
       "      <td>6</td>\n",
       "      <td>10</td>\n",
       "      <td>322</td>\n",
       "      <td>mainland</td>\n",
       "      <td>POLYGON ((146.89986 -43.25554, 147.03412 -44.1...</td>\n",
       "    </tr>\n",
       "  </tbody>\n",
       "</table>\n",
       "<p>221 rows × 7 columns</p>\n",
       "</div>"
      ],
      "text/plain": [
       "    region_code  ix  iy  utc_offset   id      type  \\\n",
       "11       x27y44  27  44           9   12  mainland   \n",
       "12       x28y44  28  44           9   13  mainland   \n",
       "13       x29y44  29  44           9   14  mainland   \n",
       "14       x30y44  30  44           9   15  mainland   \n",
       "18       x39y44  39  44           9   19  mainland   \n",
       "..          ...  ..  ..         ...  ...       ...   \n",
       "317      x40y07  40   7          10  318  mainland   \n",
       "318      x41y07  41   7          10  319  mainland   \n",
       "319      x42y07  42   7          10  320  mainland   \n",
       "320      x40y06  40   6          10  321  mainland   \n",
       "321      x41y06  41   6          10  322  mainland   \n",
       "\n",
       "                                              geometry  \n",
       "11   POLYGON ((131.14236 -10.95979, 131.13657 -11.8...  \n",
       "12   POLYGON ((132.00000 -10.96278, 132.00000 -11.8...  \n",
       "13   POLYGON ((132.85764 -10.95979, 132.86343 -11.8...  \n",
       "14   POLYGON ((133.71520 -10.95084, 133.72679 -11.8...  \n",
       "18   POLYGON ((141.41707 -10.60201, 141.48049 -11.4...  \n",
       "..                                                 ...  \n",
       "317  POLYGON ((145.64093 -42.46921, 145.76292 -43.3...  \n",
       "318  POLYGON ((146.76796 -42.37058, 146.89986 -43.2...  \n",
       "319  POLYGON ((147.89269 -42.26423, 148.03442 -43.1...  \n",
       "320  POLYGON ((145.76292 -43.35558, 145.88711 -44.2...  \n",
       "321  POLYGON ((146.89986 -43.25554, 147.03412 -44.1...  \n",
       "\n",
       "[221 rows x 7 columns]"
      ]
     },
     "execution_count": 6,
     "metadata": {},
     "output_type": "execute_result"
    }
   ],
   "source": [
    "mainland_grid"
   ]
  },
  {
   "cell_type": "code",
   "execution_count": 7,
   "id": "631b39ba-11a4-4b80-8e30-293f8f1976f6",
   "metadata": {},
   "outputs": [],
   "source": [
    "gdf = mainland_grid.loc[mainland_grid['id'] == 28]"
   ]
  },
  {
   "cell_type": "code",
   "execution_count": 8,
   "id": "99d9865d-df97-43f7-b690-b71ef99ecd4b",
   "metadata": {},
   "outputs": [
    {
     "name": "stderr",
     "output_type": "stream",
     "text": [
      "/home/jovyan/code/dea-notebooks/Tools/dea_tools/plotting.py:410: FutureWarning: The `map_shapefile` function is deprecated, and will be removed from future versions of `dea-tools`. Please use Geopanda's built-in `.explore` functionality instead.\n",
      "  warnings.warn(\n"
     ]
    },
    {
     "data": {
      "application/vnd.jupyter.widget-view+json": {
       "model_id": "c4eb431a8bb0440fb937bb4b02fedee0",
       "version_major": 2,
       "version_minor": 0
      },
      "text/plain": [
       "Label(value='')"
      ]
     },
     "metadata": {},
     "output_type": "display_data"
    },
    {
     "data": {
      "application/vnd.jupyter.widget-view+json": {
       "model_id": "c7367aa29c3246cf8dc0641cb6cc86cb",
       "version_major": 2,
       "version_minor": 0
      },
      "text/plain": [
       "Map(center=[-12.284387865869803, 133.3009872289423], controls=(ZoomControl(options=['position', 'zoom_in_text'…"
      ]
     },
     "metadata": {},
     "output_type": "display_data"
    }
   ],
   "source": [
    "map_shapefile(gdf, attribute=attribute_col)"
   ]
  },
  {
   "cell_type": "code",
   "execution_count": 9,
   "id": "d6bb8177-1eb7-4863-add8-be68f65c2709",
   "metadata": {},
   "outputs": [],
   "source": [
    "# Create the 'query' dictionary object\n",
    "res = (-30, 30)\n",
    "\n",
    "query = {\n",
    "    \"time\": time_range,\n",
    "    'resolution':res}"
   ]
  },
  {
   "cell_type": "code",
   "execution_count": 10,
   "id": "76cfdf12-eec9-42cd-b1b5-a7a2699cacaa",
   "metadata": {},
   "outputs": [
    {
     "name": "stdout",
     "output_type": "stream",
     "text": [
      "Feature: 28/1\n"
     ]
    }
   ],
   "source": [
    "# Loop through polygons in geodataframe and add geom to queries\n",
    "for index, row in gdf.iterrows():\n",
    "    print(f'Feature: {index + 1}/{len(gdf)}')\n",
    "    \n",
    "    # Extract the feature's geometry as a datacube geometry object\n",
    "    geom = Geometry(geom=row.geometry, crs=gdf.crs)\n",
    "    \n",
    "    # Update the query to include our geopolygon\n",
    "    query.update({'geopolygon': geom})\n",
    "\n",
    "# Extracting specific keys from dictionary (removing time to load things like item and srtm)\n",
    "query_notime = {key: query[key] for key in query.keys()\n",
    "       & {'resolution', 'geopolygon'}}"
   ]
  },
  {
   "cell_type": "markdown",
   "id": "eb5fe611-0f3e-4e94-a271-b5dc43a29bf7",
   "metadata": {},
   "source": [
    "### load mangroves, item, strm"
   ]
  },
  {
   "cell_type": "code",
   "execution_count": 11,
   "id": "603d2c47-3396-4b9d-a7d0-cd8fc959be2a",
   "metadata": {},
   "outputs": [],
   "source": [
    "# Load in mangrove cover\n",
    "DEAmangrove = dc.load(product = 'ga_ls_mangrove_cover_cyear_3', output_crs=\"EPSG:3577\", **query)\n",
    "# get output of mangrove == 1, not mangrove == 0\n",
    "mangrove = (DEAmangrove.canopy_cover_class != 255)\n",
    "\n",
    "# Load item\n",
    "item = dc.load(product = 'item_v2', output_crs=\"EPSG:3577\", **query_notime)\n",
    "item = item.relative\n",
    "\n",
    "# Load STRM\n",
    "srtm = dc.load(product = 'ga_srtm_dem1sv1_0', output_crs=\"EPSG:3577\", **query_notime)\n",
    "srtm = srtm.dem_h"
   ]
  },
  {
   "cell_type": "markdown",
   "id": "e8c2dec2-702b-4dc5-9bee-6d8d4810f4f6",
   "metadata": {},
   "source": [
    "### load in woody cover virtual product"
   ]
  },
  {
   "cell_type": "code",
   "execution_count": 12,
   "id": "2a096905-6f48-44c8-8666-239e5525c4bf",
   "metadata": {},
   "outputs": [],
   "source": [
    "# load in vp woody cover\n",
    "sys.path.insert(1, '../virtual_products') \n",
    "# The dictionary which datacube uses to understand (resolve) the different virtual product functionality\n",
    "# Need to add any aggregations for the VP you're using\n",
    "\n",
    "# Get location of transformation\n",
    "aggregation = \"best_pixel_gmad\"\n",
    "agg_loc = importlib.import_module(aggregation)\n",
    "agg_class = aggregation.split('.')[-1]\n",
    "\n",
    "DEFAULT_RESOLVER.register('aggregate', agg_class, getattr(agg_loc, agg_class) )"
   ]
  },
  {
   "cell_type": "code",
   "execution_count": 13,
   "id": "188c6d8f-9baa-4bd3-8d09-33d31ba0c37f",
   "metadata": {},
   "outputs": [],
   "source": [
    "# Need to add any tranformations for the VP you're using\n",
    "\n",
    "# Get location of transformation\n",
    "transformation = \"woody_cover\"\n",
    "trans_loc = importlib.import_module(transformation)\n",
    "trans_class = transformation.split('.')[-1]\n",
    "\n",
    "DEFAULT_RESOLVER.register('transform', trans_class, getattr(trans_loc, trans_class) )"
   ]
  },
  {
   "cell_type": "code",
   "execution_count": 14,
   "id": "6a3529a8-f728-49b2-a7ec-db774a3b89a6",
   "metadata": {},
   "outputs": [
    {
     "name": "stderr",
     "output_type": "stream",
     "text": [
      "/env/lib/python3.8/site-packages/sklearn/base.py:299: UserWarning: Trying to unpickle estimator DecisionTreeRegressor from version 1.0.2 when using version 1.2.1. This might lead to breaking code or invalid results. Use at your own risk. For more info please refer to:\n",
      "https://scikit-learn.org/stable/model_persistence.html#security-maintainability-limitations\n",
      "  warnings.warn(\n",
      "/env/lib/python3.8/site-packages/sklearn/base.py:299: UserWarning: Trying to unpickle estimator RandomForestRegressor from version 1.0.2 when using version 1.2.1. This might lead to breaking code or invalid results. Use at your own risk. For more info please refer to:\n",
      "https://scikit-learn.org/stable/model_persistence.html#security-maintainability-limitations\n",
      "  warnings.warn(\n",
      "/env/lib/python3.8/site-packages/sklearn/base.py:420: UserWarning: X does not have valid feature names, but RandomForestRegressor was fitted with feature names\n",
      "  warnings.warn(\n"
     ]
    }
   ],
   "source": [
    "# load woody_cover vp\n",
    "product = catalog['woody_cover']\n",
    "woody_cover_vp = product.load(dc, **query)\n",
    "\n",
    "# woody cover with threshold for saltmarsh\n",
    "woody_cover = xr.where(woody_cover_vp.woody_cover > 0.5, 1, 0).astype('int8')\n",
    "woody_cover.attrs['crs'] = 'EPSG:3577'"
   ]
  },
  {
   "cell_type": "markdown",
   "id": "3d925466-05b7-480d-96d6-4b76b49da6c6",
   "metadata": {},
   "source": [
    "### create initial supratidal forest extent product"
   ]
  },
  {
   "cell_type": "code",
   "execution_count": 15,
   "id": "71c91d49-6f4f-4f3c-8fa7-b8b766111756",
   "metadata": {},
   "outputs": [],
   "source": [
    "## wrangle binary maps and create STF mask\n",
    "\n",
    "# not mangrove == True\n",
    "not_mangrove = (1 - mangrove)\n",
    "not_mangrove = not_mangrove == 1\n",
    "\n",
    "# greater than 1m AHD and less than 10m AHD == True\n",
    "AHD_min = 1\n",
    "AHD_max = 10\n",
    "\n",
    "# SRTM\n",
    "lessthan10m_AHD = srtm <= AHD_max\n",
    "greaterthan1m_AHD = srtm >= AHD_min\n",
    "AHD_threshold_srtm = lessthan10m_AHD & greaterthan1m_AHD\n",
    "\n",
    "# item (remove all intertidal areas)\n",
    "not_intertidal = item == 9\n",
    "\n",
    "# remove time dim\n",
    "not_mangrove = not_mangrove.squeeze('time')\n",
    "AHD_threshold_srtm = AHD_threshold_srtm.squeeze('time')\n",
    "not_intertidal = not_intertidal.squeeze('time')"
   ]
  },
  {
   "cell_type": "code",
   "execution_count": 16,
   "id": "de510ebc-a5e3-450d-968d-9e3ac6db9b71",
   "metadata": {},
   "outputs": [],
   "source": [
    "# combine masks\n",
    "STF = xr.where((woody_cover == False) + (not_mangrove == False) + (AHD_threshold_srtm == False) + (not_intertidal == False), 0, 1).astype('int8')"
   ]
  },
  {
   "cell_type": "code",
   "execution_count": 17,
   "id": "79e59c69-58fb-494f-8ad4-1ef5bc6f3a4b",
   "metadata": {},
   "outputs": [],
   "source": [
    "# Generate a polygon mask to keep only data within the polygon\n",
    "mask = xr_rasterize(gdf, DEAmangrove)\n",
    "\n",
    "# Mask dataset to set pixels outside the polygon to `NaN`\n",
    "STF = STF.where(mask)"
   ]
  },
  {
   "cell_type": "code",
   "execution_count": 18,
   "id": "4d54d020-9d58-4c7f-a97b-59e14ab8180e",
   "metadata": {},
   "outputs": [
    {
     "data": {
      "text/plain": [
       "<matplotlib.collections.QuadMesh at 0x7f6ce1c30940>"
      ]
     },
     "execution_count": 18,
     "metadata": {},
     "output_type": "execute_result"
    },
    {
     "data": {
      "image/png": "[encoded data removed]",
      "text/plain": [
       "<Figure size 640x480 with 2 Axes>"
      ]
     },
     "metadata": {},
     "output_type": "display_data"
    }
   ],
   "source": [
    "STF.plot()"
   ]
  },
  {
   "cell_type": "markdown",
   "id": "fbd16871-4cd1-484c-842b-8097bf9a440b",
   "metadata": {},
   "source": [
    "### output to geotiff"
   ]
  },
  {
   "cell_type": "code",
   "execution_count": 19,
   "id": "38006a77-148b-42ae-a7ed-6d5e8eb366c1",
   "metadata": {},
   "outputs": [],
   "source": [
    "# STF (1 = STF, 0 = not STF)\n",
    "if export == False:\n",
    "    pass\n",
    "else:\n",
    "    write_cog(geo_im=STF.astype('int8'),\n",
    "              fname=vector_file.rsplit('/', 1)[-1].split('.')[0] + '_gridID_' + gdf['id'].astype(str).item() +'_STF_' + time_range[0] + '.tif', # first part gets AOI name\n",
    "              overwrite=True,\n",
    "              nodata=0.0)"
   ]
  },
  {
   "cell_type": "code",
   "execution_count": 20,
   "id": "91e636ee-ab32-40d0-8d8f-89790ff4907f",
   "metadata": {},
   "outputs": [
    {
     "name": "stdout",
     "output_type": "stream",
     "text": [
      "Elapsed time: 1 minutes and 41.48 seconds\n"
     ]
    }
   ],
   "source": [
    "end = time.time()\n",
    "elapsed_time = end - start\n",
    "minutes = int(elapsed_time // 60)\n",
    "seconds = elapsed_time % 60\n",
    "print(f\"Elapsed time: {minutes} minutes and {seconds:.2f} seconds\")"
   ]
  },
  {
   "cell_type": "code",
   "execution_count": null,
   "id": "29d90641-9979-435e-adf7-9897a2e19f3d",
   "metadata": {},
   "outputs": [],
   "source": []
  }
 ],
 "metadata": {
  "kernelspec": {
   "display_name": "Python 3 (ipykernel)",
   "language": "python",
   "name": "python3"
  },
  "language_info": {
   "codemirror_mode": {
    "name": "ipython",
    "version": 3
   },
   "file_extension": ".py",
   "mimetype": "text/x-python",
   "name": "python",
   "nbconvert_exporter": "python",
   "pygments_lexer": "ipython3",
   "version": "3.8.10"
  }
 },
 "nbformat": 4,
 "nbformat_minor": 5
}
